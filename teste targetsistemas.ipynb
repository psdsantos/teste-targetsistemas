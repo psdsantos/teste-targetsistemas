{
 "cells": [
  {
   "cell_type": "markdown",
   "id": "e298d014-3408-451c-8050-96d2f9d8bca6",
   "metadata": {},
   "source": [
    "## 1.\n",
    "Dado a sequência de Fibonacci, onde se inicia por 0 e 1 e o próximo valor sempre será a soma dos 2 valores anteriores (exemplo: 0, 1, 1, 2, 3, 5, 8, 13, 21, 34...), escreva um programa na linguagem que desejar onde, informado um número, ele calcule a sequência de Fibonacci e retorne uma mensagem avisando se o número informado pertence ou não a sequência."
   ]
  },
  {
   "cell_type": "code",
   "execution_count": 24,
   "id": "e447117b-1771-4c6c-9b06-4b023c4ead6f",
   "metadata": {},
   "outputs": [
    {
     "name": "stdin",
     "output_type": "stream",
     "text": [
      "Informe um número para verificar se pertence à sequência de Fibonacci:  34\n"
     ]
    },
    {
     "name": "stdout",
     "output_type": "stream",
     "text": [
      "O número 34 pertence à sequência de Fibonacci.\n",
      "Sequência de Fibonacci:\n",
      "0 1 1 2 3 5 8 13 21 34\n",
      "                    ^\n"
     ]
    }
   ],
   "source": [
    "def pertence_a_fibonacci(numero):\n",
    "    if numero < 0:\n",
    "        return False\n",
    "    \n",
    "    # Inicializa os dois primeiros números da sequência de Fibonacci\n",
    "    a, b = 0, 1\n",
    "    fibonacci_sequence = [a]\n",
    "    \n",
    "    # Adiciona o próximo número na sequência até encontrar o número informado\n",
    "    while a < numero:\n",
    "        a, b = b, a + b\n",
    "        fibonacci_sequence.append(a)\n",
    "    \n",
    "    # Verifica se o número informado está na sequência\n",
    "    return a == numero, fibonacci_sequence\n",
    "\n",
    "def exibir_sequencia_com_seta(fibonacci_sequence, numero):\n",
    "    sequence_str = ' '.join(map(str, fibonacci_sequence))\n",
    "    arrow_pos = sequence_str.rfind(str(numero))  # Encontra a posição do número na sequência\n",
    "    arrow_line = ' ' * arrow_pos + '^'  # Cria a linha com a seta\n",
    "\n",
    "    print(\"Sequência de Fibonacci:\")\n",
    "    print(sequence_str)\n",
    "    print(arrow_line)\n",
    "\n",
    "# Entrada do usuário\n",
    "numero = int(input(\"Informe um número para verificar se pertence à sequência de Fibonacci: \"))\n",
    "\n",
    "# Verifica se o número pertence à sequência e obtém a sequência\n",
    "pertence, fibonacci_sequence = pertence_a_fibonacci(numero)\n",
    "\n",
    "# Mensagem final\n",
    "if pertence:\n",
    "    print(f\"O número {numero} pertence à sequência de Fibonacci.\")\n",
    "    # Exibe a sequência com a seta\n",
    "    exibir_sequencia_com_seta(fibonacci_sequence, numero)\n",
    "else:\n",
    "    print(f\"O número {numero} não pertence à sequência de Fibonacci.\")\n"
   ]
  },
  {
   "cell_type": "markdown",
   "id": "8e3e9f66-52d1-4b9d-a39d-b3f794ceffba",
   "metadata": {},
   "source": [
    "- Função pertence_a_fibonacci(numero):\n",
    "\n",
    "Calcula a sequência de Fibonacci até o número informado e retorna a sequência completa além da verificação se o número está presente na sequência. Como os valores são adicionados para evitar recálculo, podemos dizer que é uma abordagem de programação dinâmica. Tem complexidade de tempo $O(n)$. \n",
    "\n",
    "- Função exibir_sequencia_com_seta(fibonacci_sequence, numero):\n",
    "\n",
    "Converte a sequência de Fibonacci para uma string e encontra a posição do número informado.\n",
    "Cria uma linha com uma seta (^) apontando para o número na sequência.\n",
    "Exibe a sequência e a linha com a seta.\n",
    "\n",
    "Ao executar o código, ele mostrará a sequência de Fibonacci até o número informado e, se o número estiver na sequência, uma seta apontará para ele. Se o número não estiver na sequência, a seta não aparecerá."
   ]
  },
  {
   "cell_type": "markdown",
   "id": "1cebcf1d-80e5-4c1f-bbbb-64cbb2191728",
   "metadata": {},
   "source": [
    "## 2. \n",
    "Escreva um programa que verifique, em uma string, a existência da letra ‘a’, seja maiúscula ou minúscula, além de informar a quantidade de vezes em que ela ocorre."
   ]
  },
  {
   "cell_type": "code",
   "execution_count": 27,
   "id": "a5d12ffd-9b6d-4ab6-9419-6a629efb5933",
   "metadata": {},
   "outputs": [
    {
     "name": "stdin",
     "output_type": "stream",
     "text": [
      "Digite uma string para verificar a existência e quantidade da letra 'a':  aksjdflkajsALAKJLKJlkj\n"
     ]
    },
    {
     "name": "stdout",
     "output_type": "stream",
     "text": [
      "A letra 'a' (ou 'A') aparece 4 vez(es) na string.\n",
      "String:\n",
      "aksjdflkajsALAKJLKJlkj\n",
      "^       ^  ^ ^        \n"
     ]
    }
   ],
   "source": [
    "def verificar_ocorrencias_a(s):\n",
    "    # Converte a string para minúscula para facilitar a verificação\n",
    "    s = s.lower()\n",
    "    \n",
    "    # Conta a quantidade de ocorrências de 'a'\n",
    "    quantidade = s.count('a')\n",
    "    \n",
    "    # Verifica se a letra 'a' (ou 'A') está presente\n",
    "    existe = quantidade > 0\n",
    "    \n",
    "    return existe, quantidade\n",
    "\n",
    "def exibir_sequencia_com_seta(string):\n",
    "    # Converte a string para uma lista de caracteres para facilitar a manipulação\n",
    "    chars = list(string)\n",
    "    \n",
    "    # Cria uma linha com setas\n",
    "    arrow_line = [' '] * len(chars)\n",
    "    \n",
    "    # Marca as posições das letras 'a' com uma seta\n",
    "    for i, char in enumerate(chars):\n",
    "        if char.lower() == 'a':\n",
    "            arrow_line[i] = '^'\n",
    "    \n",
    "    # Converte as listas de volta para strings\n",
    "    string_display = ''.join(chars)\n",
    "    arrow_line_display = ''.join(arrow_line)\n",
    "    \n",
    "    # Exibe a string com a linha de setas\n",
    "    print(\"String:\")\n",
    "    print(string_display)\n",
    "    print(arrow_line_display)  # Adiciona um espaço antes da linha de setas para alinhamento\n",
    "\n",
    "\n",
    "# Entrada do usuário\n",
    "entrada = input(\"Digite uma string para verificar a existência e quantidade da letra 'a': \")\n",
    "\n",
    "# Verifica a existência e quantidade da letra 'a'\n",
    "existe, quantidade = verificar_ocorrencias_a(entrada)\n",
    "\n",
    "# Exibe o resultado\n",
    "if existe:\n",
    "    print(f\"A letra 'a' (ou 'A') aparece {quantidade} vez(es) na string.\")\n",
    "    exibir_sequencia_com_seta(entrada)\n",
    "else:\n",
    "    print(\"A letra 'a' (ou 'A') não aparece na string.\")\n"
   ]
  },
  {
   "cell_type": "markdown",
   "id": "9e72cc56-d9e6-4385-aa0a-dd07efe3996b",
   "metadata": {},
   "source": [
    "## 3. \n",
    "Observe o trecho de código abaixo:\n",
    "```\n",
    "int INDICE = 12, SOMA = 0, K = 1; \n",
    "enquanto K < INDICE \n",
    "    faça { \n",
    "        K = K + 1; \n",
    "       SOMA = SOMA + K; \n",
    "    } \n",
    "imprimir(SOMA);\n",
    "```\n",
    "\n",
    "Ao final do processamento, qual será o valor da variável SOMA?"
   ]
  },
  {
   "cell_type": "markdown",
   "id": "f0b86f0a-0449-4b12-a33d-2035616bc21e",
   "metadata": {},
   "source": [
    "O valor de SOMA será 77:"
   ]
  },
  {
   "cell_type": "code",
   "execution_count": 32,
   "id": "b66d9739-bde1-4759-b7f6-42e59633f946",
   "metadata": {},
   "outputs": [
    {
     "name": "stdout",
     "output_type": "stream",
     "text": [
      "77\n"
     ]
    }
   ],
   "source": [
    "indice = 12\n",
    "soma = 0\n",
    "k = 1\n",
    "\n",
    "while k < indice:\n",
    "    k = k + 1\n",
    "    soma = soma + k\n",
    "\n",
    "print(soma)"
   ]
  },
  {
   "cell_type": "markdown",
   "id": "10661fb9-ff4c-42ee-90d4-605eb48b2526",
   "metadata": {},
   "source": [
    "## 4. \n",
    "a. PA com razão = 2. Resposta: 9\n",
    "b. PG com razão = 2. Resposta: 128\n",
    "c. Quadrados dos números naturais. Resposta: 49\n",
    "d. Quadrados dos números pares. Resposta: 100\n",
    "e. Fibonacci. Resposta: 13\n",
    "f. Números que começam com D, em ordem crescente. Resposta: 200 \n",
    "\n",
    "## 5.  \n",
    "Se as lâmpadas estão em salas diferentes e eu puder acessar apenas uma delas, não é possível descobrir todos os interruptores. Assumindo que eu posso acessar duas lâmpadas:\n",
    "Deixa uma lâmpada acesa. (interruptor A)\n",
    "Deixa uma apagada. (interruptor B)\n",
    "Liga uma lâmpada por tempo suficiente para esquentar e depois desliga. (interruptor C)\n",
    "\n",
    "Depois eu verifico duas lâmpadas. Se estiver apagada e quente é C, se estiver apagada e fria é B, se estiver acesa é A. O mesmo vale para a segunda lâmpada e a terceira lâmpada é do interruptor que sobrar.\n"
   ]
  }
 ],
 "metadata": {
  "kernelspec": {
   "display_name": "Python 3 (ipykernel)",
   "language": "python",
   "name": "python3"
  },
  "language_info": {
   "codemirror_mode": {
    "name": "ipython",
    "version": 3
   },
   "file_extension": ".py",
   "mimetype": "text/x-python",
   "name": "python",
   "nbconvert_exporter": "python",
   "pygments_lexer": "ipython3",
   "version": "3.10.12"
  }
 },
 "nbformat": 4,
 "nbformat_minor": 5
}
